{
  "nbformat": 4,
  "nbformat_minor": 0,
  "metadata": {
    "colab": {
      "provenance": []
    },
    "kernelspec": {
      "name": "python3",
      "display_name": "Python 3"
    },
    "language_info": {
      "name": "python"
    }
  },
  "cells": [
    {
      "cell_type": "markdown",
      "source": [
        "Learning variables and data types"
      ],
      "metadata": {
        "id": "Ki-6HBln_EU7"
      }
    },
    {
      "cell_type": "code",
      "execution_count": null,
      "metadata": {
        "id": "TFXj1P8n_DtP"
      },
      "outputs": [],
      "source": [
        "age_list = [34, 25, 23, 19, 29]"
      ]
    },
    {
      "cell_type": "code",
      "source": [
        "max_age = max(age_list)\n",
        "\n",
        "print(max_age)\n",
        "\n",
        "max_age"
      ],
      "metadata": {
        "colab": {
          "base_uri": "https://localhost:8080/"
        },
        "id": "_RemIJ2P_UeM",
        "outputId": "09e6ff6a-5e2f-46be-ee36-640524ef1be6"
      },
      "execution_count": null,
      "outputs": [
        {
          "output_type": "stream",
          "name": "stdout",
          "text": [
            "34\n"
          ]
        },
        {
          "output_type": "execute_result",
          "data": {
            "text/plain": [
              "34"
            ]
          },
          "metadata": {},
          "execution_count": 17
        }
      ]
    },
    {
      "cell_type": "code",
      "source": [
        "max_age = str(max_age)\n",
        "max_age"
      ],
      "metadata": {
        "colab": {
          "base_uri": "https://localhost:8080/",
          "height": 35
        },
        "id": "obmjq32L_9Ex",
        "outputId": "6d30a6ff-cff0-428a-aa64-5d7e150f1d05"
      },
      "execution_count": null,
      "outputs": [
        {
          "output_type": "execute_result",
          "data": {
            "text/plain": [
              "'34'"
            ],
            "application/vnd.google.colaboratory.intrinsic+json": {
              "type": "string"
            }
          },
          "metadata": {},
          "execution_count": 4
        }
      ]
    },
    {
      "cell_type": "code",
      "source": [
        "min_age = min(age_list)\n",
        "\n",
        "min_age\n",
        "\n",
        "max_age - min_age"
      ],
      "metadata": {
        "colab": {
          "base_uri": "https://localhost:8080/"
        },
        "id": "JjPHDTFQAHa-",
        "outputId": "936487b4-d491-4cc0-a29e-8fb41387ac23"
      },
      "execution_count": null,
      "outputs": [
        {
          "output_type": "execute_result",
          "data": {
            "text/plain": [
              "15"
            ]
          },
          "metadata": {},
          "execution_count": 18
        }
      ]
    },
    {
      "cell_type": "code",
      "source": [],
      "metadata": {
        "id": "Ei-o3yUUvia8"
      },
      "execution_count": null,
      "outputs": []
    },
    {
      "cell_type": "code",
      "source": [
        "min_age = str(min_age)\n",
        "\n",
        "min_age"
      ],
      "metadata": {
        "colab": {
          "base_uri": "https://localhost:8080/",
          "height": 35
        },
        "id": "Pm6Kk3uVAcxg",
        "outputId": "51d67e10-7728-40e9-f625-5389de6d89f9"
      },
      "execution_count": null,
      "outputs": [
        {
          "output_type": "execute_result",
          "data": {
            "text/plain": [
              "'1'"
            ],
            "application/vnd.google.colaboratory.intrinsic+json": {
              "type": "string"
            }
          },
          "metadata": {},
          "execution_count": 9
        }
      ]
    },
    {
      "cell_type": "markdown",
      "source": [
        "Functions"
      ],
      "metadata": {
        "id": "gPTq97BaEyCN"
      }
    },
    {
      "cell_type": "code",
      "source": [
        "#Function to convert Fahrenheit to celsius\n",
        "\n",
        "def to_celsius(x):\n",
        "  return (x - 32) * 5 / 9\n",
        "\n",
        "to_celsius(75)"
      ],
      "metadata": {
        "colab": {
          "base_uri": "https://localhost:8080/"
        },
        "id": "cKyqpTiCE1HW",
        "outputId": "e5d5b10c-f4d7-4f5f-9583-baa2eccaca27"
      },
      "execution_count": null,
      "outputs": [
        {
          "output_type": "execute_result",
          "data": {
            "text/plain": [
              "23.88888888888889"
            ]
          },
          "metadata": {},
          "execution_count": 19
        }
      ]
    },
    {
      "cell_type": "markdown",
      "source": [
        "Conditional Statements"
      ],
      "metadata": {
        "id": "sUEo_eoGFg_r"
      }
    },
    {
      "cell_type": "code",
      "source": [
        "number = -4\n",
        "if number > 0:\n",
        "  print(\"Number is Positive\")\n",
        "\n",
        "elif number == 0:\n",
        "  print(\"The Number is zero\")\n",
        "else:\n",
        "  print(\"The number is negative\")"
      ],
      "metadata": {
        "colab": {
          "base_uri": "https://localhost:8080/"
        },
        "id": "tth6jw7hFlTw",
        "outputId": "169cc20a-cf42-41fd-a6a9-170d77036779"
      },
      "execution_count": null,
      "outputs": [
        {
          "output_type": "stream",
          "name": "stdout",
          "text": [
            "The number is negative\n"
          ]
        }
      ]
    },
    {
      "cell_type": "code",
      "source": [
        "#conditional statements\n",
        "def hint_username(username):\n",
        "  if len(username) < 8:\n",
        "    print('Invalid username! must have at least 8 characters')\n",
        "\n",
        "  else:\n",
        "    if len(username) > 15:\n",
        "      print('Wacha ujinga username haiwezi kuwa kubwa hivyo')\n",
        "\n",
        "    else:\n",
        "      print('Good boy')\n",
        "\n",
        "\n",
        "\n",
        "hint_username('Daniel shs')\n",
        "\n"
      ],
      "metadata": {
        "colab": {
          "base_uri": "https://localhost:8080/"
        },
        "id": "JHxipGCrPzc_",
        "outputId": "55d2c053-1dc7-4774-930d-69cf27d7fed4"
      },
      "execution_count": null,
      "outputs": [
        {
          "output_type": "stream",
          "name": "stdout",
          "text": [
            "Good boy\n"
          ]
        }
      ]
    },
    {
      "cell_type": "code",
      "source": [
        "#check if a number is even\n",
        "\n",
        "def is_even(number):\n",
        "  if number % 2 == 0:\n",
        "    return True\n",
        "  return False\n",
        "\n",
        "is_even(7)"
      ],
      "metadata": {
        "colab": {
          "base_uri": "https://localhost:8080/"
        },
        "id": "KenNQsenSHXO",
        "outputId": "d7b376b3-68c0-4434-ca1b-9652dffa15c0"
      },
      "execution_count": null,
      "outputs": [
        {
          "output_type": "execute_result",
          "data": {
            "text/plain": [
              "False"
            ]
          },
          "metadata": {},
          "execution_count": 7
        }
      ]
    },
    {
      "cell_type": "code",
      "source": [
        "new_string = 'pining for the fjords'\n",
        "print(new_string[6:100])"
      ],
      "metadata": {
        "id": "r4YnrfY-TTx6",
        "outputId": "1ac0aea4-eea8-46c9-ed2b-e8a5ac357ea3",
        "colab": {
          "base_uri": "https://localhost:8080/"
        }
      },
      "execution_count": null,
      "outputs": [
        {
          "output_type": "stream",
          "name": "stdout",
          "text": [
            " for the fjords\n"
          ]
        }
      ]
    }
  ]
}